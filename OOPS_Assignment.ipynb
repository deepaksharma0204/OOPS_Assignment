{
 "cells": [
  {
   "cell_type": "code",
   "execution_count": null,
   "id": "1b168c04-3f13-4a3a-ac49-5e86e0508f41",
   "metadata": {},
   "outputs": [],
   "source": [
    "# Q1: What are the five key concepts of Object-Oriented Programming (OOP)?"
   ]
  },
  {
   "cell_type": "code",
   "execution_count": null,
   "id": "94339b13-3e04-49da-b538-6f416444e64b",
   "metadata": {},
   "outputs": [],
   "source": [
    "# Ans:- The five key concepts of Object-Oriented Programming (OOP) are:\n",
    "\n",
    "# 1. Class: A blueprint or template for creating objects. It defines the attributes (properties) and methods (functions) that the \n",
    "# objects created from the class will have.\n",
    "\n",
    "# 2. Object: An instance of a class. Objects are created from classes and represent real-world entities or concepts, with their own \n",
    "# attributes and behaviors defined by the class.\n",
    "\n",
    "# 3. Encapsulation: The concept of bundling data (attributes) and methods (functions) that operate on the data into a single unit, or \n",
    "# class. It restricts direct access to some of the object's components, which helps in protecting the data and enforcing modularity.\n",
    "\n",
    "# 4. Inheritance: A mechanism that allows one class (the child or derived class) to inherit attributes and methods from another class \n",
    "# (the parent or base class). It promotes code reuse and establishes a relationship between classes.\n",
    "\n",
    "# 5. Polymorphism: The ability of different classes to provide a specific implementation of a method that is called in the same way. \n",
    "# This concept allows objects of different types to be treated as objects of a common base type, enabling flexibility and the ability \n",
    "# to override methods in child classes.\n",
    "\n",
    "# These core principles guide the design and implementation of object-oriented software systems."
   ]
  },
  {
   "cell_type": "code",
   "execution_count": null,
   "id": "032df83e-267f-46f1-ac93-9151c770b4d7",
   "metadata": {},
   "outputs": [],
   "source": [
    "# Q2: Write a Python class for a `Car` with attributes for `make`, `model`, and `year`. Include a method to display \n",
    "# the car's information."
   ]
  },
  {
   "cell_type": "code",
   "execution_count": 1,
   "id": "6f4f539f-592b-4d43-8e74-bdcc05241179",
   "metadata": {},
   "outputs": [
    {
     "name": "stdout",
     "output_type": "stream",
     "text": [
      "Car Information: 2020 Toyota Corolla\n"
     ]
    }
   ],
   "source": [
    "# Ans:- Here is a simple Python class for a Car with attributes for make, model, and year, along with a method to display the car's \n",
    "# information:\n",
    "class Car:\n",
    "    def __init__(self, make, model, year):\n",
    "        self.make = make\n",
    "        self.model = model\n",
    "        self.year = year\n",
    "\n",
    "    def display_info(self):\n",
    "        print(f\"Car Information: {self.year} {self.make} {self.model}\")\n",
    "\n",
    "# Example usage:\n",
    "car1 = Car(\"Toyota\", \"Corolla\", 2020)\n",
    "car1.display_info()"
   ]
  },
  {
   "cell_type": "code",
   "execution_count": null,
   "id": "2e7df60e-6ef5-4a4a-aaf8-1e77b8cc59b5",
   "metadata": {},
   "outputs": [],
   "source": [
    "# This class has:\n",
    "\n",
    "# An __init__ method (the constructor) to initialize the car's attributes: make, model, and year.\n",
    "# A display_info method that prints out the car's details in a formatted string."
   ]
  },
  {
   "cell_type": "code",
   "execution_count": null,
   "id": "f0f2d9ca-6cd9-4dfc-a993-f87ccdf3c816",
   "metadata": {},
   "outputs": [],
   "source": [
    "# Q3: Explain the difference between instance methods and class methods. Provide an example of each."
   ]
  },
  {
   "cell_type": "code",
   "execution_count": 3,
   "id": "c05be39a-aca3-4a35-b251-58960e50ff7b",
   "metadata": {},
   "outputs": [
    {
     "name": "stdout",
     "output_type": "stream",
     "text": [
      "2020 Toyota Corolla\n"
     ]
    }
   ],
   "source": [
    "# Ans: Difference Between Instance Methods and Class Methods\n",
    "# 1. Instance Methods:\n",
    "\n",
    "# Operate on an instance of the class.\n",
    "# The first parameter is always self, which refers to the instance of the class.\n",
    "# These methods can access and modify the instance's attributes.\n",
    "# Example:\n",
    "class Car:\n",
    "    def __init__(self, make, model, year):\n",
    "        self.make = make\n",
    "        self.model = model\n",
    "        self.year = year\n",
    "\n",
    "    def display_info(self):  # Instance method\n",
    "        return f\"{self.year} {self.make} {self.model}\"\n",
    "\n",
    "# Creating an instance\n",
    "car1 = Car(\"Toyota\", \"Corolla\", 2020)\n",
    "print(car1.display_info())"
   ]
  },
  {
   "cell_type": "code",
   "execution_count": 4,
   "id": "9aaf6a01-98c6-42cc-ad85-1fc81fb0cdf4",
   "metadata": {},
   "outputs": [
    {
     "name": "stdout",
     "output_type": "stream",
     "text": [
      "Total number of cars: 2\n"
     ]
    }
   ],
   "source": [
    "# 2. Class Methods:\n",
    "\n",
    "# Operate on the class itself, not on instances of the class.\n",
    "# The first parameter is cls, which refers to the class.\n",
    "# Class methods are defined using the @classmethod decorator and can be used to modify class-level attributes or perform actions that \n",
    "# are relevant to the class as a whole.\n",
    "# Example:\n",
    "class Car:\n",
    "    total_cars = 0  # Class-level attribute\n",
    "\n",
    "    def __init__(self, make, model, year):\n",
    "        self.make = make\n",
    "        self.model = model\n",
    "        self.year = year\n",
    "        Car.total_cars += 1\n",
    "\n",
    "    @classmethod\n",
    "    def car_count(cls):  # Class method\n",
    "        return f\"Total number of cars: {cls.total_cars}\"\n",
    "\n",
    "# Creating instances\n",
    "car1 = Car(\"Toyota\", \"Corolla\", 2020)\n",
    "car2 = Car(\"Honda\", \"Civic\", 2021)\n",
    "\n",
    "# Accessing the class method\n",
    "print(Car.car_count())"
   ]
  },
  {
   "cell_type": "code",
   "execution_count": null,
   "id": "2629a36e-ea9e-418d-9dd7-c452f86b0c16",
   "metadata": {},
   "outputs": [],
   "source": [
    "# Summary:\n",
    "# Instance methods: Operate on an object (instance of a class), can access/modify instance attributes.\n",
    "# Class methods: Operate on the class itself, used for operations affecting the class as a whole \n",
    "# (e.g., keeping track of class-level data)."
   ]
  },
  {
   "cell_type": "code",
   "execution_count": null,
   "id": "497f3c24-25fe-4602-92f5-6aaaba483ca5",
   "metadata": {},
   "outputs": [],
   "source": [
    "# Q4: How does Python implement method overloading? Give an example."
   ]
  },
  {
   "cell_type": "code",
   "execution_count": 5,
   "id": "3a7c0985-493c-4bfa-8b70-f835228ae945",
   "metadata": {},
   "outputs": [
    {
     "name": "stdout",
     "output_type": "stream",
     "text": [
      "30\n",
      "15\n",
      "5\n",
      "0\n"
     ]
    }
   ],
   "source": [
    "# Ans:- In Python, method overloading (having multiple methods with the same name but different signatures) is not supported in the \n",
    "# same way as in some other programming languages like Java or C++. Instead, Python allows method overriding, but it achieves \n",
    "# overloading-like behavior using default arguments, variable-length arguments (*args and **kwargs), or by manually checking the types\n",
    "# and number of arguments inside the method.\n",
    "\n",
    "# How Python Implements Overloading:\n",
    "# Default Arguments: By providing default values to parameters, Python allows flexibility in how many arguments are passed.\n",
    "# Variable-length Arguments (*args and **kwargs): These allow you to pass an arbitrary number of positional or keyword arguments, which\n",
    "# can be processed based on the number and types of arguments received.\n",
    "# Example: Simulating Method Overloading in Python\n",
    "class Calculator:\n",
    "    def add(self, a=None, b=None, c=None):\n",
    "        if a is not None and b is not None and c is not None:\n",
    "            return a + b + c  \n",
    "        elif a is not None and b is not None:\n",
    "            return a + b  \n",
    "        elif a is not None:\n",
    "            return a  \n",
    "        else:\n",
    "            return 0  \n",
    "\n",
    "# Example usage:\n",
    "calc = Calculator()\n",
    "\n",
    "print(calc.add(5, 10, 15))  \n",
    "print(calc.add(5, 10))      \n",
    "print(calc.add(5))          \n",
    "print(calc.add())           "
   ]
  },
  {
   "cell_type": "code",
   "execution_count": null,
   "id": "a50b6fd3-4094-4716-aa42-0eac59c4fdc9",
   "metadata": {},
   "outputs": [],
   "source": [
    "# Explanation:\n",
    "# The method add uses default values (None) for its parameters. Inside the method, logic is used to determine how many arguments are \n",
    "# passed and performs the addition accordingly.\n",
    "# This simulates overloading by allowing different behavior based on the number of arguments provided.\n",
    "\n",
    "# Conclusion:\n",
    "# While Python does not natively support method overloading with different signatures like other languages, similar behavior can be \n",
    "# achieved using default arguments, *args, and **kwargs, or through explicit checks on the number of arguments or their types."
   ]
  },
  {
   "cell_type": "code",
   "execution_count": null,
   "id": "43f1c6da-0d10-44e7-84fb-8ce5d6a44bc4",
   "metadata": {},
   "outputs": [],
   "source": [
    "# Q5: What are the three types of access modifiers in Python? How are they denoted?"
   ]
  },
  {
   "cell_type": "code",
   "execution_count": 6,
   "id": "baadf165-7ba0-4ca2-97b2-037567166e82",
   "metadata": {},
   "outputs": [
    {
     "name": "stdout",
     "output_type": "stream",
     "text": [
      "Toyota\n",
      "Toyota Camry\n"
     ]
    }
   ],
   "source": [
    "# Ans:- In Python, access modifiers control the visibility of class attributes and methods. While Python doesn't enforce strict access \n",
    "# control like some other languages (e.g., Java or C++), it provides conventions to denote different levels of access. There are three \n",
    "# types of access modifiers in Python:\n",
    "\n",
    "# 1. Public:\n",
    "# Accessible from anywhere: Public attributes and methods can be accessed both from inside and outside the class.\n",
    "# Denotation: Public members have no special prefix. By default, all class attributes and methods are public.\n",
    "# Example:\n",
    "class Car:\n",
    "    def __init__(self, make, model):\n",
    "        self.make = make  \n",
    "        self.model = model  \n",
    "\n",
    "    def display_info(self):  \n",
    "        return f\"{self.make} {self.model}\"\n",
    "\n",
    "car = Car(\"Toyota\", \"Camry\")\n",
    "print(car.make)  \n",
    "print(car.display_info())  "
   ]
  },
  {
   "cell_type": "code",
   "execution_count": 7,
   "id": "ad2444da-2945-4762-8f21-86b6a565f80d",
   "metadata": {},
   "outputs": [
    {
     "name": "stdout",
     "output_type": "stream",
     "text": [
      "Honda\n"
     ]
    }
   ],
   "source": [
    "# 2. Protected:\n",
    "# Accessible within the class and its subclasses: Protected members should not be accessed directly from outside the class \n",
    "# (although they can be). This is more of a convention to indicate that these members are intended for internal use or use in \n",
    "# subclasses.\n",
    "# Denotation: Protected members are denoted by a single leading underscore (_).\n",
    "# Example:\n",
    "class Car:\n",
    "    def __init__(self, make, model):\n",
    "        self._make = make  \n",
    "        self._model = model  \n",
    "\n",
    "    def _display_info(self):  \n",
    "        return f\"{self._make} {self._model}\"\n",
    "\n",
    "car = Car(\"Honda\", \"Accord\")\n",
    "print(car._make)"
   ]
  },
  {
   "cell_type": "code",
   "execution_count": 8,
   "id": "e6f5d473-3a4b-49dd-9e6f-e390a7458014",
   "metadata": {},
   "outputs": [
    {
     "name": "stdout",
     "output_type": "stream",
     "text": [
      "Ford Mustang\n"
     ]
    }
   ],
   "source": [
    "# 3. Private:\n",
    "# Accessible only within the class: Private members cannot be accessed directly from outside the class. Python achieves this by name \n",
    "# mangling, which internally changes the name of the attribute or method to make it less accessible.\n",
    "# Denotation: Private members are denoted by a double leading underscore (__).\n",
    "# Example:\n",
    "class Car:\n",
    "    def __init__(self, make, model):\n",
    "        self.__make = make  \n",
    "        self.__model = model  \n",
    "\n",
    "    def __display_info(self):  \n",
    "        return f\"{self.__make} {self.__model}\"\n",
    "\n",
    "    def get_info(self):  \n",
    "        return self.__display_info()\n",
    "\n",
    "car = Car(\"Ford\", \"Mustang\")\n",
    "print(car.get_info())  "
   ]
  },
  {
   "cell_type": "code",
   "execution_count": null,
   "id": "c5aeb102-27dd-4ade-be31-0d534dd79bfe",
   "metadata": {},
   "outputs": [],
   "source": [
    "# While private members can't be accessed directly, Python performs name mangling. This means self.__make is internally stored \n",
    "# as _ClassName__make. Thus, they can still be accessed by using this mangled name (though this is not recommended).\n",
    "# Summary:\n",
    "# Public: No leading underscores (self.make), accessible everywhere.\n",
    "# Protected: Single leading underscore (self._make), accessible within the class and subclasses (but can still be accessed outside the \n",
    "# class).\n",
    "# Private: Double leading underscore (self.__make), meant to be accessed only within the class, but can still be accessed via name \n",
    "# mangling."
   ]
  },
  {
   "cell_type": "code",
   "execution_count": null,
   "id": "7304c94f-32fd-4773-94c8-d68dd01b5d9c",
   "metadata": {},
   "outputs": [],
   "source": [
    "# Q6: Describe the five types of inheritance in Python. Provide a simple example of multiple inheritance."
   ]
  },
  {
   "cell_type": "code",
   "execution_count": 9,
   "id": "65c6162a-46ab-4d54-aa79-734450acdb68",
   "metadata": {},
   "outputs": [
    {
     "name": "stdout",
     "output_type": "stream",
     "text": [
      "Animal speaks\n",
      "Dog barks\n"
     ]
    }
   ],
   "source": [
    "# Ans: In Python, inheritance allows a class (child class) to inherit attributes and methods from another class (parent class). There \n",
    "# are five types of inheritance in Python:\n",
    "\n",
    "# 1. Single Inheritance:\n",
    "# A child class inherits from a single parent class.\n",
    "# Example:\n",
    "class Animal:\n",
    "    def speak(self):\n",
    "        return \"Animal speaks\"\n",
    "\n",
    "class Dog(Animal):  \n",
    "    def bark(self):\n",
    "        return \"Dog barks\"\n",
    "\n",
    "dog = Dog()\n",
    "print(dog.speak()) \n",
    "print(dog.bark())   "
   ]
  },
  {
   "cell_type": "code",
   "execution_count": 10,
   "id": "ea238b42-153a-476d-bc1b-4864f36a3fff",
   "metadata": {},
   "outputs": [
    {
     "name": "stdout",
     "output_type": "stream",
     "text": [
      "Engine started\n",
      "Wheels rotating\n",
      "Car is driving\n"
     ]
    }
   ],
   "source": [
    "# 2. Multiple Inheritance:\n",
    "# A child class inherits from more than one parent class.\n",
    "# Example:\n",
    "class Engine:\n",
    "    def start(self):\n",
    "        return \"Engine started\"\n",
    "\n",
    "class Wheels:\n",
    "    def rotate(self):\n",
    "        return \"Wheels rotating\"\n",
    "\n",
    "class Car(Engine, Wheels):  \n",
    "    def drive(self):\n",
    "        return \"Car is driving\"\n",
    "\n",
    "car = Car()\n",
    "print(car.start())   \n",
    "print(car.rotate())  \n",
    "print(car.drive())   "
   ]
  },
  {
   "cell_type": "code",
   "execution_count": 11,
   "id": "1e3758d6-f078-47a8-aff2-25db4160695f",
   "metadata": {},
   "outputs": [
    {
     "name": "stdout",
     "output_type": "stream",
     "text": [
      "Animal speaks\n",
      "Dog barks\n",
      "Puppy weeps\n"
     ]
    }
   ],
   "source": [
    "# 3. Multilevel Inheritance:\n",
    "# A child class inherits from a parent class, and then another child class inherits from the first child class \n",
    "# (a chain of inheritance).\n",
    "# Example:\n",
    "class Animal:\n",
    "    def speak(self):\n",
    "        return \"Animal speaks\"\n",
    "\n",
    "class Dog(Animal):  \n",
    "    def bark(self):\n",
    "        return \"Dog barks\"\n",
    "\n",
    "class Puppy(Dog):  \n",
    "    def weep(self):\n",
    "        return \"Puppy weeps\"\n",
    "\n",
    "puppy = Puppy()\n",
    "print(puppy.speak())  \n",
    "print(puppy.bark())   \n",
    "print(puppy.weep())   "
   ]
  },
  {
   "cell_type": "code",
   "execution_count": 12,
   "id": "b11905ad-5adc-491c-b4d6-e07e8543c0e1",
   "metadata": {},
   "outputs": [
    {
     "name": "stdout",
     "output_type": "stream",
     "text": [
      "Animal speaks\n",
      "Dog barks\n",
      "Animal speaks\n",
      "Cat meows\n"
     ]
    }
   ],
   "source": [
    "# 4. Hierarchical Inheritance:\n",
    "# Multiple child classes inherit from the same parent class.\n",
    "# Example:\n",
    "class Animal:\n",
    "    def speak(self):\n",
    "        return \"Animal speaks\"\n",
    "\n",
    "class Dog(Animal):  \n",
    "    def bark(self):\n",
    "        return \"Dog barks\"\n",
    "\n",
    "class Cat(Animal):  \n",
    "    def meow(self):\n",
    "        return \"Cat meows\"\n",
    "\n",
    "dog = Dog()\n",
    "cat = Cat()\n",
    "print(dog.speak())  \n",
    "print(dog.bark())   \n",
    "print(cat.speak())  \n",
    "print(cat.meow())   "
   ]
  },
  {
   "cell_type": "code",
   "execution_count": 13,
   "id": "69e46f5f-048e-4f30-aab2-e1f732ca2960",
   "metadata": {},
   "outputs": [
    {
     "name": "stdout",
     "output_type": "stream",
     "text": [
      "Animal speaks\n",
      "Dog barks\n",
      "Robot beeps\n",
      "RoboDog barks electronically\n"
     ]
    }
   ],
   "source": [
    "# 5. Hybrid Inheritance:\n",
    "# A combination of more than one type of inheritance (e.g., combining hierarchical and multiple inheritance).\n",
    "# Example:\n",
    "class Animal:\n",
    "    def speak(self):\n",
    "        return \"Animal speaks\"\n",
    "\n",
    "class Dog(Animal):  \n",
    "    def bark(self):\n",
    "        return \"Dog barks\"\n",
    "\n",
    "class Robot:\n",
    "    def beep(self):\n",
    "        return \"Robot beeps\"\n",
    "\n",
    "class RoboDog(Dog, Robot):  \n",
    "    def robo_bark(self):\n",
    "        return \"RoboDog barks electronically\"\n",
    "\n",
    "robodog = RoboDog()\n",
    "print(robodog.speak())     \n",
    "print(robodog.bark())      \n",
    "print(robodog.beep())      \n",
    "print(robodog.robo_bark()) "
   ]
  },
  {
   "cell_type": "code",
   "execution_count": 14,
   "id": "c8d8dfa3-feed-4de9-84b8-286ab0790d81",
   "metadata": {},
   "outputs": [
    {
     "name": "stdout",
     "output_type": "stream",
     "text": [
      "Father has driving skills\n",
      "Child has drawing skills\n"
     ]
    }
   ],
   "source": [
    "# Example of Multiple Inheritance:\n",
    "# Here's an example showing how a class can inherit from two or more classes:\n",
    "class Father:\n",
    "    def skills(self):\n",
    "        return \"Father has driving skills\"\n",
    "\n",
    "class Mother:\n",
    "    def skills(self):\n",
    "        return \"Mother has cooking skills\"\n",
    "class Child(Father, Mother):  \n",
    "    def child_skills(self):\n",
    "        return \"Child has drawing skills\"\n",
    "\n",
    "child = Child()\n",
    "print(child.skills())        \n",
    "print(child.child_skills())  "
   ]
  },
  {
   "cell_type": "code",
   "execution_count": null,
   "id": "a72e7fdf-85c9-4470-997a-128bc9b4a3b8",
   "metadata": {},
   "outputs": [],
   "source": [
    "# Q7: What is the Method Resolution Order (MRO) in Python? How can you retrieve it programmatically?"
   ]
  },
  {
   "cell_type": "code",
   "execution_count": 15,
   "id": "59eb353c-5742-4ad6-87ab-0aba709f72e6",
   "metadata": {},
   "outputs": [
    {
     "name": "stdout",
     "output_type": "stream",
     "text": [
      "[<class '__main__.D'>, <class '__main__.B'>, <class '__main__.C'>, <class '__main__.A'>, <class 'object'>]\n",
      "(<class '__main__.D'>, <class '__main__.B'>, <class '__main__.C'>, <class '__main__.A'>, <class 'object'>)\n"
     ]
    }
   ],
   "source": [
    "# Ans:- What is the Method Resolution Order (MRO)?\n",
    "# The Method Resolution Order (MRO) in Python is the order in which Python looks for methods and attributes in a hierarchy of classes.\n",
    "# When a method or attribute is called on an object, Python follows the MRO to search for it in the object's class and its parent \n",
    "# classes. This is particularly important in the case of multiple inheritance, where a class inherits from more than one parent class.\n",
    "\n",
    "# Python follows the C3 linearization algorithm (also known as C3 superclass linearization) to compute the MRO. This algorithm ensures \n",
    "# that the order of method resolution is consistent and follows the inheritance hierarchy, preventing ambiguity in cases of multiple \n",
    "# inheritance.\n",
    "\n",
    "# How Python Determines the MRO:\n",
    "# Python looks at the method in the child class first.\n",
    "# If the method isn't found, it looks in the parent classes, based on the order defined in the class definition.\n",
    "# The search continues according to the inheritance hierarchy, following a depth-first left-to-right search in the case of multiple \n",
    "# inheritance.\n",
    "# Retrieving the MRO Programmatically\n",
    "# You can retrieve the MRO of a class using:\n",
    "\n",
    "# 1. The __mro__ attribute.\n",
    "# 2. The mro() method of a class.\n",
    "# 3. The inspect.getmro() function from the inspect module (optional, for more advanced usage).\n",
    "# Example:\n",
    "class A:\n",
    "    def method(self):\n",
    "        return \"Method in A\"\n",
    "\n",
    "class B(A):\n",
    "    def method(self):\n",
    "        return \"Method in B\"\n",
    "\n",
    "class C(A):\n",
    "    def method(self):\n",
    "        return \"Method in C\"\n",
    "\n",
    "class D(B, C):  # Multiple inheritance\n",
    "    pass\n",
    "\n",
    "# Retrieve MRO using the `mro()` method\n",
    "print(D.mro())\n",
    "\n",
    "# Retrieve MRO using the `__mro__` attribute\n",
    "print(D.__mro__)"
   ]
  },
  {
   "cell_type": "code",
   "execution_count": null,
   "id": "506820c6-5e48-485d-9594-8dc599defcb3",
   "metadata": {},
   "outputs": [],
   "source": [
    "# Explanation:\n",
    "# The output shows the method resolution order for class D, which inherits from both B and C.\n",
    "# Python will look for methods in the following order:\n",
    "# 1. Class D.\n",
    "# 2. Class B.\n",
    "# 3. Class C.\n",
    "# 4. Class A (the common base class for both B and C).\n",
    "# 5. The built-in object class.\n",
    "\n",
    "# How MRO Works in Multiple Inheritance:\n",
    "# In the case of multiple inheritance (e.g., D(B, C)), Python uses the C3 linearization algorithm to resolve the order in which parent \n",
    "# classes are searched. It ensures:\n",
    "\n",
    "# The method is searched in a left-to-right manner based on how the classes are listed in the inheritance.\n",
    "# No parent class is visited more than once.\n",
    "# This approach avoids conflicts and ensures a consistent, predictable order for method resolution in complex inheritance hierarchies."
   ]
  },
  {
   "cell_type": "code",
   "execution_count": null,
   "id": "b8752332-269e-44de-9ea8-cf62685aa8b8",
   "metadata": {},
   "outputs": [],
   "source": [
    "# Q8: Create an abstract base class `Shape` with an abstract method `area()`. Then create two subclasses \n",
    "# `Circle` and `Rectangle` that implement the `area()` method."
   ]
  },
  {
   "cell_type": "code",
   "execution_count": 16,
   "id": "09f00612-de29-4a6e-823b-8b1d8763906c",
   "metadata": {},
   "outputs": [
    {
     "name": "stdout",
     "output_type": "stream",
     "text": [
      "Area of the circle: 78.53981633974483\n",
      "Area of the rectangle: 24\n"
     ]
    }
   ],
   "source": [
    "# Ans:- To create an abstract base class Shape with an abstract method area() in Python, you can use the abc (Abstract Base Class) \n",
    "# module. This ensures that any subclass of Shape must implement the area() method.\n",
    "\n",
    "# Here's how you can implement it:\n",
    "\n",
    "# Example:\n",
    "from abc import ABC, abstractmethod\n",
    "import math\n",
    "\n",
    "# Abstract base class\n",
    "class Shape(ABC):\n",
    "    \n",
    "    @abstractmethod\n",
    "    def area(self):\n",
    "        pass  \n",
    "\n",
    "# Subclass for Circle\n",
    "class Circle(Shape):\n",
    "    def __init__(self, radius):\n",
    "        self.radius = radius\n",
    "\n",
    "    def area(self):\n",
    "        return math.pi * self.radius ** 2  \n",
    "\n",
    "# Subclass for Rectangle\n",
    "class Rectangle(Shape):\n",
    "    def __init__(self, width, height):\n",
    "        self.width = width\n",
    "        self.height = height\n",
    "\n",
    "    def area(self):\n",
    "        return self.width * self.height  \n",
    "\n",
    "# Example usage\n",
    "circle = Circle(5)\n",
    "print(f\"Area of the circle: {circle.area()}\")  \n",
    "\n",
    "rectangle = Rectangle(4, 6)\n",
    "print(f\"Area of the rectangle: {rectangle.area()}\")  "
   ]
  },
  {
   "cell_type": "code",
   "execution_count": null,
   "id": "a4928b4a-064f-4b24-8436-783feebf5db8",
   "metadata": {},
   "outputs": [],
   "source": [
    "# Explanation:\n",
    "# Shape is the abstract base class that defines the abstract method area(). This method has no implementation in the Shape class, and \n",
    "# any subclass must implement it.\n",
    "# Circle is a subclass of Shape and provides an implementation of the area() method using the formula for the area of a circle \n",
    "\n",
    "# Rectangle is another subclass of Shape and implements the area() method using the formula for the area of a rectangle"
   ]
  },
  {
   "cell_type": "code",
   "execution_count": null,
   "id": "26368943-9b6c-498f-b993-bf12080f3d6f",
   "metadata": {},
   "outputs": [],
   "source": [
    "# Q9: Demonstrate polymorphism by creating a function that can work with different shape objects to calculate \n",
    "# and print their areas."
   ]
  },
  {
   "cell_type": "code",
   "execution_count": 17,
   "id": "f6c36bc3-431a-4c19-a157-42a480e8bc4f",
   "metadata": {},
   "outputs": [
    {
     "name": "stdout",
     "output_type": "stream",
     "text": [
      "The area of the Circle is: 78.53981633974483\n",
      "The area of the Rectangle is: 24\n"
     ]
    }
   ],
   "source": [
    "# Ans:- Polymorphism allows us to define a single function that can work with different types of objects, as long as those objects \n",
    "# implement a common interface (in this case, the area() method from the Shape class). This lets us treat objects of different classes \n",
    "# (e.g., Circle and Rectangle) in a uniform way.\n",
    "\n",
    "# Here's how you can demonstrate polymorphism by creating a function that calculates and prints the area of any shape:\n",
    "# Example:\n",
    "from abc import ABC, abstractmethod\n",
    "import math\n",
    "\n",
    "# Abstract base class\n",
    "class Shape(ABC):\n",
    "    \n",
    "    @abstractmethod\n",
    "    def area(self):\n",
    "        pass  # Abstract method\n",
    "\n",
    "# Subclass for Circle\n",
    "class Circle(Shape):\n",
    "    def __init__(self, radius):\n",
    "        self.radius = radius\n",
    "\n",
    "    def area(self):\n",
    "        return math.pi * self.radius ** 2\n",
    "\n",
    "# Subclass for Rectangle\n",
    "class Rectangle(Shape):\n",
    "    def __init__(self, width, height):\n",
    "        self.width = width\n",
    "        self.height = height\n",
    "\n",
    "    def area(self):\n",
    "        return self.width * self.height\n",
    "\n",
    "# Function to calculate and print the area of any shape (polymorphism)\n",
    "def print_area(shape: Shape):\n",
    "    print(f\"The area of the {shape.__class__.__name__} is: {shape.area()}\")\n",
    "\n",
    "# Example usage\n",
    "circle = Circle(5)\n",
    "rectangle = Rectangle(4, 6)\n",
    "\n",
    "# Demonstrating polymorphism\n",
    "print_area(circle)      \n",
    "print_area(rectangle)   "
   ]
  },
  {
   "cell_type": "code",
   "execution_count": null,
   "id": "1d555725-91e5-4ecf-b2c2-5b000cc0840d",
   "metadata": {},
   "outputs": [],
   "source": [
    "# Explanation:\n",
    "# Shape is the abstract base class, with the abstract method area() that must be implemented by subclasses.\n",
    "# Circle and Rectangle are concrete subclasses of Shape, each implementing the area() method for their specific shapes.\n",
    "# The function print_area(shape: Shape) takes an object of type Shape and prints its area. This function can work with any subclass of \n",
    "# Shape (like Circle or Rectangle), thanks to polymorphism.\n",
    "\n",
    "# How Polymorphism Works Here:\n",
    "# The print_area function doesn't need to know the specific type of shape (whether it's a Circle or Rectangle). It simply calls shape.\n",
    "# area(), and the correct method is invoked based on the actual object type.\n",
    "# This is a key feature of polymorphism in Python, where different classes (that inherit from the same base class) can be used \n",
    "# interchangeably, as long as they implement the required interface (the area() method)."
   ]
  },
  {
   "cell_type": "code",
   "execution_count": null,
   "id": "7965934d-3883-4430-b69d-641dab5c5d75",
   "metadata": {},
   "outputs": [],
   "source": [
    "# Q10: Implement encapsulation in a `BankAccount` class with private attributes for `balance` and \n",
    "# `account_number`. Include methods for deposit, withdrawal, and balance inquiry."
   ]
  },
  {
   "cell_type": "code",
   "execution_count": 18,
   "id": "1f97ece2-12d1-4912-a435-87e4cbf8a157",
   "metadata": {},
   "outputs": [
    {
     "name": "stdout",
     "output_type": "stream",
     "text": [
      "Deposited $500. New balance: $1500\n",
      "Withdrew $200. Remaining balance: $1300\n",
      "Current balance: $1300\n",
      "Account Number: 12345678\n"
     ]
    }
   ],
   "source": [
    "# Ans:- Encapsulation in Python is implemented by making class attributes private (using double underscores __) and controlling access \n",
    "# to them through public methods. In this case, the BankAccount class will have private attributes for balance and account_number, with\n",
    "# public methods to interact with these attributes safely.\n",
    "\n",
    "# Example: BankAccount Class with Encapsulation\n",
    "class BankAccount:\n",
    "    def __init__(self, account_number, initial_balance=0):\n",
    "        self.__account_number = account_number  \n",
    "        self.__balance = initial_balance  \n",
    "\n",
    "    def deposit(self, amount):\n",
    "        if amount > 0:\n",
    "            self.__balance += amount\n",
    "            print(f\"Deposited ${amount}. New balance: ${self.__balance}\")\n",
    "        else:\n",
    "            print(\"Deposit amount must be positive.\")\n",
    "\n",
    "    def withdraw(self, amount):\n",
    "        if 0 < amount <= self.__balance:\n",
    "            self.__balance -= amount\n",
    "            print(f\"Withdrew ${amount}. Remaining balance: ${self.__balance}\")\n",
    "        else:\n",
    "            print(\"Insufficient funds or invalid amount.\")\n",
    "\n",
    "    def check_balance(self):\n",
    "        return f\"Current balance: ${self.__balance}\"\n",
    "\n",
    "    def get_account_number(self):\n",
    "        return f\"Account Number: {self.__account_number}\"\n",
    "\n",
    "account = BankAccount(\"12345678\", 1000)\n",
    "\n",
    "account.deposit(500)  \n",
    "\n",
    "account.withdraw(200)  \n",
    "\n",
    "print(account.check_balance())  \n",
    "\n",
    "print(account.get_account_number())"
   ]
  },
  {
   "cell_type": "code",
   "execution_count": null,
   "id": "c981ec0a-0056-45f8-b7bd-a3a1ea5e9970",
   "metadata": {},
   "outputs": [],
   "source": [
    "# Explanation:\n",
    "# The attributes __account_number and __balance are private, meaning they cannot be accessed directly from outside the class \n",
    "# (e.g., account.__balance would raise an error).\n",
    "# Public methods are provided to safely interact with the private attributes:\n",
    "# deposit(amount): Adds a positive amount to the balance.\n",
    "# withdraw(amount): Withdraws money if the amount is within the available balance.\n",
    "# check_balance(): Returns the current balance.\n",
    "# get_account_number(): Returns the account number, as it is private and cannot be accessed directly.\n",
    "\n",
    "# Encapsulation:\n",
    "# By making balance and account_number private, we ensure that the data is not directly modified from outside the class. This provides\n",
    "# better control over the internal state of the object, promoting data security and integrity."
   ]
  },
  {
   "cell_type": "code",
   "execution_count": null,
   "id": "16d2bcc6-11f2-4518-a70b-dc403ebc8c9e",
   "metadata": {},
   "outputs": [],
   "source": [
    "# Q11: Write a class that overrides the `__str__` and `__add__` magic methods. What will these methods allow \n",
    "# you to do?"
   ]
  },
  {
   "cell_type": "code",
   "execution_count": 19,
   "id": "577e4858-7561-4545-8369-4e2d539a72c3",
   "metadata": {},
   "outputs": [
    {
     "name": "stdout",
     "output_type": "stream",
     "text": [
      "Vector(2, 3)\n",
      "Vector(6, 8)\n"
     ]
    }
   ],
   "source": [
    "# Ans:- In Python, the __str__ and __add__ magic methods (also known as dunder methods) are used to customize how objects of a class \n",
    "# are represented as strings and how they handle addition, respectively.\n",
    "\n",
    "# __str__: Defines the string representation of an object, which is used by the str() function and print() statements. It allows you \n",
    "# to provide a human-readable description of the object.\n",
    "\n",
    "# __add__: Defines the behavior of the addition operator + when used with objects of the class. It allows you to specify how objects \n",
    "# should be added together.\n",
    "\n",
    "# Here’s an example of a class that overrides both __str__ and __add__:\n",
    "\n",
    "# Example: Vector Class:\n",
    "class Vector:\n",
    "    def __init__(self, x, y):\n",
    "        self.x = x\n",
    "        self.y = y\n",
    "\n",
    "    def __str__(self):\n",
    "        return f\"Vector({self.x}, {self.y})\"\n",
    "\n",
    "    def __add__(self, other):\n",
    "        if isinstance(other, Vector):\n",
    "            return Vector(self.x + other.x, self.y + other.y)\n",
    "        return NotImplemented\n",
    "\n",
    "v1 = Vector(2, 3)\n",
    "v2 = Vector(4, 5)\n",
    "\n",
    "print(v1)  \n",
    "\n",
    "\n",
    "v3 = v1 + v2\n",
    "print(v3)"
   ]
  },
  {
   "cell_type": "code",
   "execution_count": null,
   "id": "e594bf32-12d1-4684-ae95-9f38750f8c9a",
   "metadata": {},
   "outputs": [],
   "source": [
    "# Explanation:\n",
    "# __str__ Method:\n",
    "\n",
    "# This method returns a string that represents the Vector object. When print(v1) is called, it uses the __str__ method to get the \n",
    "# string representation of v1, resulting in \"Vector(2, 3)\".\n",
    "# __add__ Method:\n",
    "\n",
    "# This method handles the addition operation for Vector objects. It checks if the other object is also an instance of Vector. If so, it\n",
    "# returns a new Vector whose components are the sum of the corresponding components of the two vectors.\n",
    "# If other is not a Vector, it returns NotImplemented, which is a standard way to indicate that the operation is not supported for the\n",
    "# given type.\n",
    "\n",
    "# Usage:\n",
    "# String Representation: The __str__ method allows you to define how your object should be converted to a string, making it easier to \n",
    "# print or display.\n",
    "# Addition Operation: The __add__ method lets you use the + operator with objects of your class, enabling intuitive arithmetic \n",
    "# operations between objects.\n",
    "# With these methods overridden, the Vector class objects can be both printed in a user-friendly format and added together in a \n",
    "# meaningful way."
   ]
  },
  {
   "cell_type": "code",
   "execution_count": null,
   "id": "8c375320-ba1d-4df1-b843-7b4c4e6a5173",
   "metadata": {},
   "outputs": [],
   "source": [
    "# Q12: Create a decorator that measures and prints the execution time of a function."
   ]
  },
  {
   "cell_type": "code",
   "execution_count": 20,
   "id": "dbb1cc1d-cdbf-4a1f-b8bc-176dba5a3026",
   "metadata": {},
   "outputs": [
    {
     "name": "stdout",
     "output_type": "stream",
     "text": [
      "Execution time of slow_function: 0.5007 seconds\n",
      "Result: 10\n"
     ]
    }
   ],
   "source": [
    "# Ans:- To create a decorator that measures and prints the execution time of a function, you can use the time module in Python. \n",
    "# The decorator will wrap around a function, record the start time, call the function, record the end time, and then calculate and \n",
    "# print the elapsed time.\n",
    "\n",
    "# Here's how you can implement such a decorator:\n",
    "\n",
    "# Example: Execution Time Decorator\n",
    "import time\n",
    "\n",
    "def timeit(func):\n",
    "    def wrapper(*args, **kwargs):\n",
    "        start_time = time.time()  \n",
    "        result = func(*args, **kwargs)  \n",
    "        end_time = time.time()  \n",
    "        elapsed_time = end_time - start_time  \n",
    "        print(f\"Execution time of {func.__name__}: {elapsed_time:.4f} seconds\")\n",
    "        return result  \n",
    "    return wrapper\n",
    "\n",
    "@timeit\n",
    "def slow_function(n):\n",
    "    total = 0\n",
    "    for i in range(n):\n",
    "        total += i\n",
    "        time.sleep(0.1) \n",
    "    return total\n",
    "\n",
    "result = slow_function(5)\n",
    "print(f\"Result: {result}\")"
   ]
  },
  {
   "cell_type": "code",
   "execution_count": null,
   "id": "d04b99e8-82ed-40f7-bc65-b993acec2071",
   "metadata": {},
   "outputs": [],
   "source": [
    "# Explanation:\n",
    "# 1. Decorator Function (timeit):\n",
    "\n",
    "# Takes a function func as an argument.\n",
    "# Defines a nested function wrapper that takes any positional and keyword arguments (*args and **kwargs).\n",
    "# Records the start time using time.time().\n",
    "# Calls the original function (func) and stores its result.\n",
    "# Records the end time using time.time().\n",
    "# Calculates the elapsed time by subtracting the start time from the end time.\n",
    "# Prints the execution time.\n",
    "# Returns the result of the original function.\n",
    "\n",
    "# 2.Usage:\n",
    "\n",
    "# The @timeit decorator is applied to the slow_function function.\n",
    "# When slow_function is called, the wrapper function runs, measuring and printing the time taken to execute slow_function."
   ]
  },
  {
   "cell_type": "code",
   "execution_count": null,
   "id": "7ce3150c-e49d-4d6e-aec6-e85863395223",
   "metadata": {},
   "outputs": [],
   "source": [
    "# Q13: Explain the concept of the Diamond Problem in multiple inheritance. How does Python resolve it?"
   ]
  },
  {
   "cell_type": "code",
   "execution_count": 23,
   "id": "5d41beb9-b28b-4508-9562-da043ca9fd99",
   "metadata": {},
   "outputs": [
    {
     "name": "stdout",
     "output_type": "stream",
     "text": [
      "Method in B\n"
     ]
    }
   ],
   "source": [
    "# Ans:- The Diamond Problem is a classic issue in object-oriented programming that arises in languages that support multiple \n",
    "# inheritance. It involves a situation where a class inherits from two classes that both inherit from a common base class, creating a \n",
    "# diamond-shaped inheritance structure.\n",
    "\n",
    "# Diamond Problem Explained:\n",
    "# Consider the following class hierarchy:\n",
    "#      A\n",
    "#     / \\\n",
    "#    B   C\n",
    "#     \\ /\n",
    "#      D\n",
    "# Class A is the base class.\n",
    "# Class B and Class C both inherit from Class A.\n",
    "# Class D inherits from both Class B and Class C.\n",
    "# The problem occurs when Class D needs to inherit attributes or methods from Class A through both Class B and Class C. This could lead\n",
    "# to ambiguity:\n",
    "\n",
    "# If both Class B and Class C override a method from Class A, which version should Class D inherit?\n",
    "# If Class D calls a method from Class A, it might be unclear which path (through Class B or Class C) should be followed.\n",
    "# Python's Resolution of the Diamond Problem:\n",
    "# Python uses the C3 Linearization (or C3 superclass linearization) algorithm to resolve the Diamond Problem. This algorithm provides a\n",
    "# consistent and predictable order for method resolution in complex inheritance hierarchies.\n",
    "\n",
    "# Here’s how it works:\n",
    "\n",
    "# C3 Linearization ensures that the method resolution order (MRO) is consistent and respects the inheritance hierarchy.\n",
    "# It processes the classes in a depth-first, left-to-right manner, considering the order in which they are listed in the inheritance \n",
    "# declaration.\n",
    "# Example:\n",
    "# Consider the following Python code demonstrating the Diamond Problem:\n",
    "class A:\n",
    "    def method(self):\n",
    "        print(\"Method in A\")\n",
    "\n",
    "class B(A):\n",
    "    def method(self):\n",
    "        print(\"Method in B\")\n",
    "\n",
    "class C(A):\n",
    "    def method(self):\n",
    "        print(\"Method in C\")\n",
    "\n",
    "class D(B, C):\n",
    "    pass\n",
    "\n",
    "d = D()\n",
    "d.method()  "
   ]
  },
  {
   "cell_type": "code",
   "execution_count": null,
   "id": "1c2b6305-e6fd-4871-b033-32157a408542",
   "metadata": {},
   "outputs": [],
   "source": [
    "# Explanation:\n",
    "# Class A has a method method.\n",
    "# Class B and Class C both override the method method from Class A.\n",
    "# Class D inherits from both Class B and Class C.\n",
    "# When d.method() is called:\n",
    "\n",
    "# Python uses the MRO to determine which method implementation to call.\n",
    "# In this case, Python resolves method in Class D as Class B.method because B is listed before C in the inheritance declaration of D.\n",
    "\n",
    "# Summary:\n",
    "# The Diamond Problem arises in multiple inheritance scenarios where a class inherits from two classes that share a common base class.\n",
    "# Python resolves this problem using the C3 Linearization algorithm, which ensures a consistent and predictable method resolution order.\n",
    "# The method resolution order can be inspected using mro() or __mro__ to understand how Python will resolve method calls in complex \n",
    "# inheritance hierarchies."
   ]
  },
  {
   "cell_type": "code",
   "execution_count": null,
   "id": "f41d92e6-696c-4e55-b86b-acb5528f57c2",
   "metadata": {},
   "outputs": [],
   "source": [
    "# Q14: Write a class method that keeps track of the number of instances created from a class."
   ]
  },
  {
   "cell_type": "code",
   "execution_count": 25,
   "id": "52b5112d-7a53-4c0d-9f57-2fe162a8f88a",
   "metadata": {},
   "outputs": [
    {
     "name": "stdout",
     "output_type": "stream",
     "text": [
      "Number of instances created: 3\n"
     ]
    }
   ],
   "source": [
    "# Ans:- To keep track of the number of instances created from a class, you can use a class attribute that is incremented each time a \n",
    "# new instance is created. This requires defining a class method to access the count and a constructor (__init__) to update the count \n",
    "# whenever a new instance is initialized.\n",
    "\n",
    "# Here’s how you can implement this:\n",
    "\n",
    "# Example:\n",
    "class InstanceCounter:\n",
    "    _instance_count = 0  \n",
    "\n",
    "    def __init__(self):\n",
    "        InstanceCounter._instance_count += 1  \n",
    "\n",
    "    @classmethod\n",
    "    def get_instance_count(cls):\n",
    "        return cls._instance_count  \n",
    "\n",
    "a = InstanceCounter()\n",
    "b = InstanceCounter()\n",
    "c = InstanceCounter()\n",
    "\n",
    "print(f\"Number of instances created: {InstanceCounter.get_instance_count()}\")"
   ]
  },
  {
   "cell_type": "code",
   "execution_count": null,
   "id": "d0b27774-0c33-4aa9-ad5d-260756686518",
   "metadata": {},
   "outputs": [],
   "source": [
    "# Explanation:\n",
    "# 1. Class Attribute (_instance_count):\n",
    "\n",
    "# This private class attribute is used to keep track of the number of instances created.\n",
    "# 2. Constructor (__init__):\n",
    "\n",
    "# Each time an instance of InstanceCounter is created, the constructor increments the _instance_count class attribute by 1.\n",
    "# 3. Class Method (get_instance_count):\n",
    "\n",
    "# The get_instance_count method is a class method (indicated by the @classmethod decorator) that returns the current value \n",
    "# of _instance_count.\n",
    "# It is defined with cls as the first parameter, which refers to the class itself.\n",
    "# Example Usage:\n",
    "# When you create instances a, b, and c, each call to __init__ increments the _instance_count.\n",
    "# You can then call InstanceCounter.get_instance_count() to get the total number of instances created."
   ]
  },
  {
   "cell_type": "code",
   "execution_count": null,
   "id": "b0729a8b-17cf-499d-8649-71fea34c35c5",
   "metadata": {},
   "outputs": [],
   "source": [
    "# Q15: Implement a static method in a class that checks if a given year is a leap year."
   ]
  },
  {
   "cell_type": "code",
   "execution_count": 26,
   "id": "b1138c8f-3d55-4896-a4ff-b164af274b09",
   "metadata": {},
   "outputs": [
    {
     "name": "stdout",
     "output_type": "stream",
     "text": [
      "True\n",
      "False\n",
      "True\n",
      "False\n"
     ]
    }
   ],
   "source": [
    "# Ans:- To implement a static method in a class that checks if a given year is a leap year, you can define a class with a static method\n",
    "# that contains the logic for determining whether a year is a leap year. A static method does not require access to the instance (self)\n",
    "# or class (cls) and can be called on the class itself.\n",
    "\n",
    "# Here's how you can implement such a class:\n",
    "\n",
    "# Example:\n",
    "class YearUtils:\n",
    "    @staticmethod\n",
    "    def is_leap_year(year):\n",
    "        \"\"\"Check if a given year is a leap year.\"\"\"\n",
    "        \n",
    "        if (year % 4 == 0):\n",
    "            if (year % 100 == 0):\n",
    "                if (year % 400 == 0):\n",
    "                    return True\n",
    "                else:\n",
    "                    return False\n",
    "            else:\n",
    "                return True\n",
    "        else:\n",
    "            return False\n",
    "\n",
    "print(YearUtils.is_leap_year(2024))  \n",
    "print(YearUtils.is_leap_year(1900))  \n",
    "print(YearUtils.is_leap_year(2000))  \n",
    "print(YearUtils.is_leap_year(2023))  "
   ]
  },
  {
   "cell_type": "code",
   "execution_count": null,
   "id": "f47dbb47-0d13-43dd-96e9-c506af1db790",
   "metadata": {},
   "outputs": [],
   "source": [
    "# Explanation:\n",
    "# 1. Static Method (is_leap_year):\n",
    "\n",
    "# The @staticmethod decorator defines is_leap_year as a static method, which means it does not need to access the instance (self) or \n",
    "# the class (cls).\n",
    "# It can be called directly on the class itself.\n",
    "\n",
    "# 2. Leap Year Logic:\n",
    "\n",
    "# A year is a leap year if it is divisible by 4.\n",
    "# However, if it is also divisible by 100, it must be divisible by 400 to be considered a leap year.\n",
    "# This logic is implemented using nested if statements.\n",
    "\n",
    "# 3.Usage:\n",
    "\n",
    "# The static method is_leap_year is called on the class YearUtils to check if different years are leap years."
   ]
  },
  {
   "cell_type": "code",
   "execution_count": null,
   "id": "a566828f-f8c5-4b3c-a53c-7d0785a18d73",
   "metadata": {},
   "outputs": [],
   "source": []
  }
 ],
 "metadata": {
  "kernelspec": {
   "display_name": "Python 3 (ipykernel)",
   "language": "python",
   "name": "python3"
  },
  "language_info": {
   "codemirror_mode": {
    "name": "ipython",
    "version": 3
   },
   "file_extension": ".py",
   "mimetype": "text/x-python",
   "name": "python",
   "nbconvert_exporter": "python",
   "pygments_lexer": "ipython3",
   "version": "3.10.8"
  }
 },
 "nbformat": 4,
 "nbformat_minor": 5
}
